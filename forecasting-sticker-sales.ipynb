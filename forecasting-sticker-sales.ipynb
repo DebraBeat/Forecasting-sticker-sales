{
 "cells": [
  {
   "cell_type": "code",
   "execution_count": 1,
   "id": "788389af",
   "metadata": {
    "_cell_guid": "b1076dfc-b9ad-4769-8c92-a6c4dae69d19",
    "_uuid": "8f2839f25d086af736a60e9eeb907d3b93b6e0e5",
    "execution": {
     "iopub.execute_input": "2025-01-21T01:25:21.040188Z",
     "iopub.status.busy": "2025-01-21T01:25:21.039605Z",
     "iopub.status.idle": "2025-01-21T01:25:21.912594Z",
     "shell.execute_reply": "2025-01-21T01:25:21.911557Z"
    },
    "papermill": {
     "duration": 0.878582,
     "end_time": "2025-01-21T01:25:21.914098",
     "exception": false,
     "start_time": "2025-01-21T01:25:21.035516",
     "status": "completed"
    },
    "tags": []
   },
   "outputs": [
    {
     "name": "stdout",
     "output_type": "stream",
     "text": [
      "/kaggle/input/forecasting-sticker-sales/sample_submission.csv\n",
      "/kaggle/input/forecasting-sticker-sales/train.csv\n",
      "/kaggle/input/forecasting-sticker-sales/test.csv\n"
     ]
    }
   ],
   "source": [
    "# This Python 3 environment comes with many helpful analytics libraries installed\n",
    "# It is defined by the kaggle/python Docker image: https://github.com/kaggle/docker-python\n",
    "# For example, here's several helpful packages to load\n",
    "\n",
    "import numpy as np # linear algebra\n",
    "import pandas as pd # data processing, CSV file I/O (e.g. pd.read_csv)\n",
    "\n",
    "# Input data files are available in the read-only \"../input/\" directory\n",
    "# For example, running this (by clicking run or pressing Shift+Enter) will list all files under the input directory\n",
    "\n",
    "import os\n",
    "for dirname, _, filenames in os.walk('/kaggle/input'):\n",
    "    for filename in filenames:\n",
    "        print(os.path.join(dirname, filename))\n",
    "\n",
    "# You can write up to 20GB to the current directory (/kaggle/working/) that gets preserved as output when you create a version using \"Save & Run All\" \n",
    "# You can also write temporary files to /kaggle/temp/, but they won't be saved outside of the current session"
   ]
  },
  {
   "cell_type": "code",
   "execution_count": 2,
   "id": "22f0bdbd",
   "metadata": {
    "execution": {
     "iopub.execute_input": "2025-01-21T01:25:21.920198Z",
     "iopub.status.busy": "2025-01-21T01:25:21.919793Z",
     "iopub.status.idle": "2025-01-21T01:25:22.248356Z",
     "shell.execute_reply": "2025-01-21T01:25:22.247237Z"
    },
    "papermill": {
     "duration": 0.333125,
     "end_time": "2025-01-21T01:25:22.249986",
     "exception": false,
     "start_time": "2025-01-21T01:25:21.916861",
     "status": "completed"
    },
    "tags": []
   },
   "outputs": [
    {
     "name": "stderr",
     "output_type": "stream",
     "text": [
      "/usr/local/lib/python3.10/dist-packages/pandas/io/formats/format.py:1458: RuntimeWarning: invalid value encountered in greater\n",
      "  has_large_values = (abs_vals > 1e6).any()\n",
      "/usr/local/lib/python3.10/dist-packages/pandas/io/formats/format.py:1459: RuntimeWarning: invalid value encountered in less\n",
      "  has_small_values = ((abs_vals < 10 ** (-self.digits)) & (abs_vals > 0)).any()\n",
      "/usr/local/lib/python3.10/dist-packages/pandas/io/formats/format.py:1459: RuntimeWarning: invalid value encountered in greater\n",
      "  has_small_values = ((abs_vals < 10 ** (-self.digits)) & (abs_vals > 0)).any()\n"
     ]
    },
    {
     "data": {
      "text/html": [
       "<div>\n",
       "<style scoped>\n",
       "    .dataframe tbody tr th:only-of-type {\n",
       "        vertical-align: middle;\n",
       "    }\n",
       "\n",
       "    .dataframe tbody tr th {\n",
       "        vertical-align: top;\n",
       "    }\n",
       "\n",
       "    .dataframe thead th {\n",
       "        text-align: right;\n",
       "    }\n",
       "</style>\n",
       "<table border=\"1\" class=\"dataframe\">\n",
       "  <thead>\n",
       "    <tr style=\"text-align: right;\">\n",
       "      <th></th>\n",
       "      <th>id</th>\n",
       "      <th>date</th>\n",
       "      <th>country</th>\n",
       "      <th>store</th>\n",
       "      <th>product</th>\n",
       "      <th>num_sold</th>\n",
       "    </tr>\n",
       "  </thead>\n",
       "  <tbody>\n",
       "    <tr>\n",
       "      <th>0</th>\n",
       "      <td>0</td>\n",
       "      <td>2010-01-01</td>\n",
       "      <td>Canada</td>\n",
       "      <td>Discount Stickers</td>\n",
       "      <td>Holographic Goose</td>\n",
       "      <td>NaN</td>\n",
       "    </tr>\n",
       "    <tr>\n",
       "      <th>1</th>\n",
       "      <td>1</td>\n",
       "      <td>2010-01-01</td>\n",
       "      <td>Canada</td>\n",
       "      <td>Discount Stickers</td>\n",
       "      <td>Kaggle</td>\n",
       "      <td>973.0</td>\n",
       "    </tr>\n",
       "    <tr>\n",
       "      <th>2</th>\n",
       "      <td>2</td>\n",
       "      <td>2010-01-01</td>\n",
       "      <td>Canada</td>\n",
       "      <td>Discount Stickers</td>\n",
       "      <td>Kaggle Tiers</td>\n",
       "      <td>906.0</td>\n",
       "    </tr>\n",
       "    <tr>\n",
       "      <th>3</th>\n",
       "      <td>3</td>\n",
       "      <td>2010-01-01</td>\n",
       "      <td>Canada</td>\n",
       "      <td>Discount Stickers</td>\n",
       "      <td>Kerneler</td>\n",
       "      <td>423.0</td>\n",
       "    </tr>\n",
       "    <tr>\n",
       "      <th>4</th>\n",
       "      <td>4</td>\n",
       "      <td>2010-01-01</td>\n",
       "      <td>Canada</td>\n",
       "      <td>Discount Stickers</td>\n",
       "      <td>Kerneler Dark Mode</td>\n",
       "      <td>491.0</td>\n",
       "    </tr>\n",
       "  </tbody>\n",
       "</table>\n",
       "</div>"
      ],
      "text/plain": [
       "   id        date country              store             product  num_sold\n",
       "0   0  2010-01-01  Canada  Discount Stickers   Holographic Goose       NaN\n",
       "1   1  2010-01-01  Canada  Discount Stickers              Kaggle     973.0\n",
       "2   2  2010-01-01  Canada  Discount Stickers        Kaggle Tiers     906.0\n",
       "3   3  2010-01-01  Canada  Discount Stickers            Kerneler     423.0\n",
       "4   4  2010-01-01  Canada  Discount Stickers  Kerneler Dark Mode     491.0"
      ]
     },
     "execution_count": 2,
     "metadata": {},
     "output_type": "execute_result"
    }
   ],
   "source": [
    "sticker_data = pd.read_csv('/kaggle/input/forecasting-sticker-sales/train.csv')\n",
    "sticker_data.head()"
   ]
  },
  {
   "cell_type": "code",
   "execution_count": 3,
   "id": "83b7bf00",
   "metadata": {
    "execution": {
     "iopub.execute_input": "2025-01-21T01:25:22.256607Z",
     "iopub.status.busy": "2025-01-21T01:25:22.256330Z",
     "iopub.status.idle": "2025-01-21T01:25:22.329425Z",
     "shell.execute_reply": "2025-01-21T01:25:22.328207Z"
    },
    "papermill": {
     "duration": 0.07817,
     "end_time": "2025-01-21T01:25:22.331110",
     "exception": false,
     "start_time": "2025-01-21T01:25:22.252940",
     "status": "completed"
    },
    "tags": []
   },
   "outputs": [
    {
     "name": "stdout",
     "output_type": "stream",
     "text": [
      "<class 'pandas.core.frame.DataFrame'>\n",
      "RangeIndex: 230130 entries, 0 to 230129\n",
      "Data columns (total 6 columns):\n",
      " #   Column    Non-Null Count   Dtype  \n",
      "---  ------    --------------   -----  \n",
      " 0   id        230130 non-null  int64  \n",
      " 1   date      230130 non-null  object \n",
      " 2   country   230130 non-null  object \n",
      " 3   store     230130 non-null  object \n",
      " 4   product   230130 non-null  object \n",
      " 5   num_sold  221259 non-null  float64\n",
      "dtypes: float64(1), int64(1), object(4)\n",
      "memory usage: 10.5+ MB\n"
     ]
    }
   ],
   "source": [
    "sticker_data.info()"
   ]
  },
  {
   "cell_type": "markdown",
   "id": "a3de9183",
   "metadata": {
    "papermill": {
     "duration": 0.002437,
     "end_time": "2025-01-21T01:25:22.336461",
     "exception": false,
     "start_time": "2025-01-21T01:25:22.334024",
     "status": "completed"
    },
    "tags": []
   },
   "source": [
    "# Because we are trying to predict the number sold, we cannot impute that data as it may interfere with our final results, so we'll drop all rows that have no num_sold data"
   ]
  },
  {
   "cell_type": "code",
   "execution_count": 4,
   "id": "98cf00c3",
   "metadata": {
    "execution": {
     "iopub.execute_input": "2025-01-21T01:25:22.342546Z",
     "iopub.status.busy": "2025-01-21T01:25:22.342281Z",
     "iopub.status.idle": "2025-01-21T01:25:22.410629Z",
     "shell.execute_reply": "2025-01-21T01:25:22.409465Z"
    },
    "papermill": {
     "duration": 0.073191,
     "end_time": "2025-01-21T01:25:22.412210",
     "exception": false,
     "start_time": "2025-01-21T01:25:22.339019",
     "status": "completed"
    },
    "tags": []
   },
   "outputs": [
    {
     "name": "stdout",
     "output_type": "stream",
     "text": [
      "<class 'pandas.core.frame.DataFrame'>\n",
      "Index: 221259 entries, 1 to 230129\n",
      "Data columns (total 6 columns):\n",
      " #   Column    Non-Null Count   Dtype  \n",
      "---  ------    --------------   -----  \n",
      " 0   id        221259 non-null  int64  \n",
      " 1   date      221259 non-null  object \n",
      " 2   country   221259 non-null  object \n",
      " 3   store     221259 non-null  object \n",
      " 4   product   221259 non-null  object \n",
      " 5   num_sold  221259 non-null  float64\n",
      "dtypes: float64(1), int64(1), object(4)\n",
      "memory usage: 11.8+ MB\n"
     ]
    }
   ],
   "source": [
    "sticker_data_cleaned = sticker_data[sticker_data['num_sold'].notna()]\n",
    "sticker_data_cleaned.info()"
   ]
  },
  {
   "cell_type": "code",
   "execution_count": 5,
   "id": "6c8a6b44",
   "metadata": {
    "execution": {
     "iopub.execute_input": "2025-01-21T01:25:22.418859Z",
     "iopub.status.busy": "2025-01-21T01:25:22.418548Z",
     "iopub.status.idle": "2025-01-21T01:25:22.433225Z",
     "shell.execute_reply": "2025-01-21T01:25:22.432405Z"
    },
    "papermill": {
     "duration": 0.019198,
     "end_time": "2025-01-21T01:25:22.434486",
     "exception": false,
     "start_time": "2025-01-21T01:25:22.415288",
     "status": "completed"
    },
    "tags": []
   },
   "outputs": [
    {
     "data": {
      "text/plain": [
       "array(['Canada', 'Finland', 'Italy', 'Kenya', 'Norway', 'Singapore'],\n",
       "      dtype=object)"
      ]
     },
     "execution_count": 5,
     "metadata": {},
     "output_type": "execute_result"
    }
   ],
   "source": [
    "sticker_data['country'].unique()"
   ]
  },
  {
   "cell_type": "code",
   "execution_count": 6,
   "id": "11717444",
   "metadata": {
    "execution": {
     "iopub.execute_input": "2025-01-21T01:25:22.440822Z",
     "iopub.status.busy": "2025-01-21T01:25:22.440537Z",
     "iopub.status.idle": "2025-01-21T01:25:22.457663Z",
     "shell.execute_reply": "2025-01-21T01:25:22.456831Z"
    },
    "papermill": {
     "duration": 0.021659,
     "end_time": "2025-01-21T01:25:22.458954",
     "exception": false,
     "start_time": "2025-01-21T01:25:22.437295",
     "status": "completed"
    },
    "tags": []
   },
   "outputs": [
    {
     "data": {
      "text/plain": [
       "array(['Discount Stickers', 'Stickers for Less', 'Premium Sticker Mart'],\n",
       "      dtype=object)"
      ]
     },
     "execution_count": 6,
     "metadata": {},
     "output_type": "execute_result"
    }
   ],
   "source": [
    "sticker_data['store'].unique()"
   ]
  },
  {
   "cell_type": "code",
   "execution_count": 7,
   "id": "f55500e5",
   "metadata": {
    "execution": {
     "iopub.execute_input": "2025-01-21T01:25:22.465232Z",
     "iopub.status.busy": "2025-01-21T01:25:22.464991Z",
     "iopub.status.idle": "2025-01-21T01:25:22.480654Z",
     "shell.execute_reply": "2025-01-21T01:25:22.479780Z"
    },
    "papermill": {
     "duration": 0.020073,
     "end_time": "2025-01-21T01:25:22.481859",
     "exception": false,
     "start_time": "2025-01-21T01:25:22.461786",
     "status": "completed"
    },
    "tags": []
   },
   "outputs": [
    {
     "data": {
      "text/plain": [
       "array(['Holographic Goose', 'Kaggle', 'Kaggle Tiers', 'Kerneler',\n",
       "       'Kerneler Dark Mode'], dtype=object)"
      ]
     },
     "execution_count": 7,
     "metadata": {},
     "output_type": "execute_result"
    }
   ],
   "source": [
    "sticker_data['product'].unique()"
   ]
  },
  {
   "cell_type": "code",
   "execution_count": 8,
   "id": "2074c8df",
   "metadata": {
    "execution": {
     "iopub.execute_input": "2025-01-21T01:25:22.488308Z",
     "iopub.status.busy": "2025-01-21T01:25:22.488075Z",
     "iopub.status.idle": "2025-01-21T01:25:22.506165Z",
     "shell.execute_reply": "2025-01-21T01:25:22.505310Z"
    },
    "papermill": {
     "duration": 0.022716,
     "end_time": "2025-01-21T01:25:22.507511",
     "exception": false,
     "start_time": "2025-01-21T01:25:22.484795",
     "status": "completed"
    },
    "tags": []
   },
   "outputs": [
    {
     "data": {
      "text/plain": [
       "product\n",
       "Holographic Goose     46026\n",
       "Kaggle                46026\n",
       "Kaggle Tiers          46026\n",
       "Kerneler              46026\n",
       "Kerneler Dark Mode    46026\n",
       "Name: count, dtype: int64"
      ]
     },
     "execution_count": 8,
     "metadata": {},
     "output_type": "execute_result"
    }
   ],
   "source": [
    "# Checking to see if there's any order among the different cards sold\n",
    "sticker_data['product'].value_counts()"
   ]
  },
  {
   "cell_type": "markdown",
   "id": "7ee3b876",
   "metadata": {
    "papermill": {
     "duration": 0.002809,
     "end_time": "2025-01-21T01:25:22.513321",
     "exception": false,
     "start_time": "2025-01-21T01:25:22.510512",
     "status": "completed"
    },
    "tags": []
   },
   "source": [
    "# All features should be one-hot encoded"
   ]
  },
  {
   "cell_type": "code",
   "execution_count": null,
   "id": "d968dc9b",
   "metadata": {
    "papermill": {
     "duration": 0.002661,
     "end_time": "2025-01-21T01:25:22.519047",
     "exception": false,
     "start_time": "2025-01-21T01:25:22.516386",
     "status": "completed"
    },
    "tags": []
   },
   "outputs": [],
   "source": []
  }
 ],
 "metadata": {
  "kaggle": {
   "accelerator": "none",
   "dataSources": [
    {
     "datasetId": 6416123,
     "sourceId": 10360102,
     "sourceType": "datasetVersion"
    }
   ],
   "dockerImageVersionId": 30839,
   "isGpuEnabled": false,
   "isInternetEnabled": true,
   "language": "python",
   "sourceType": "notebook"
  },
  "kernelspec": {
   "display_name": "Python 3",
   "language": "python",
   "name": "python3"
  },
  "language_info": {
   "codemirror_mode": {
    "name": "ipython",
    "version": 3
   },
   "file_extension": ".py",
   "mimetype": "text/x-python",
   "name": "python",
   "nbconvert_exporter": "python",
   "pygments_lexer": "ipython3",
   "version": "3.10.12"
  },
  "papermill": {
   "default_parameters": {},
   "duration": 4.276935,
   "end_time": "2025-01-21T01:25:22.940280",
   "environment_variables": {},
   "exception": null,
   "input_path": "__notebook__.ipynb",
   "output_path": "__notebook__.ipynb",
   "parameters": {},
   "start_time": "2025-01-21T01:25:18.663345",
   "version": "2.6.0"
  }
 },
 "nbformat": 4,
 "nbformat_minor": 5
}
